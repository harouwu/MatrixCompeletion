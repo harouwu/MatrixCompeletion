{
 "cells": [
  {
   "cell_type": "code",
   "execution_count": null,
   "metadata": {
    "collapsed": false
   },
   "outputs": [],
   "source": [
    "%matplotlib inline"
   ]
  },
  {
   "cell_type": "code",
   "execution_count": null,
   "metadata": {
    "collapsed": true
   },
   "outputs": [],
   "source": [
    "import csv\n",
    "import numpy as np\n",
    "import os\n",
    "import sys\n",
    "module_path = os.path.abspath(os.path.join('..'))\n",
    "if module_path not in sys.path:\n",
    "    sys.path.append(module_path)\n",
    "\n",
    "from python import IMC, dirtyIMC, Utils\n",
    "from sklearn.metrics import mean_squared_error\n",
    "from math import sqrt"
   ]
  },
  {
   "cell_type": "code",
   "execution_count": null,
   "metadata": {
    "collapsed": false
   },
   "outputs": [],
   "source": [
    "data_dir = os.path.abspath(os.path.join('../', 'dataset/'))\n",
    "ml_dir = os.path.join(data_dir, 'movie_lens/ml-20m/')"
   ]
  },
  {
   "cell_type": "code",
   "execution_count": null,
   "metadata": {
    "collapsed": false
   },
   "outputs": [],
   "source": [
    "M = 27278\n",
    "U = 138493\n",
    "T = 1128\n",
    "ratio = .1\n",
    "M = int(M*ratio)\n",
    "U = int(U*ratio)\n",
    "\n",
    "Genres = ['Action',\n",
    "'Adventure',\n",
    "'Animation',\n",
    "'Children',\n",
    "'Comedy',\n",
    "'Crime',\n",
    "'Documentary',\n",
    "'Drama',\n",
    "'Fantasy',\n",
    "'Film-Noir',\n",
    "'Horror',\n",
    "'Musical',\n",
    "'Mystery',\n",
    "'Romance',\n",
    "'Sci-Fi',\n",
    "'Thriller',\n",
    "'War',\n",
    "'Western',\n",
    "'IMAX']"
   ]
  },
  {
   "cell_type": "code",
   "execution_count": null,
   "metadata": {
    "collapsed": false
   },
   "outputs": [],
   "source": [
    "genome_scores_f = open(ml_dir + 'genome-scores.csv', 'rb')\n",
    "ratings_f = open(ml_dir + 'ratings.csv', 'rb')\n",
    "movies_f = open(ml_dir + 'movies.csv', 'rb')\n",
    "tags_f = open(ml_dir + 'tags.csv', 'rb')\n",
    "\n",
    "genome_scores_r = csv.reader(genome_scores_f, delimiter=',', quotechar='|')\n",
    "ratings_r = csv.reader(ratings_f, delimiter=',', quotechar='|')\n",
    "movies_r = csv.reader(movies_f, delimiter=',', quotechar='|')\n",
    "tags_r = csv.reader(tags_f, delimiter=',', quotechar='|')"
   ]
  },
  {
   "cell_type": "code",
   "execution_count": null,
   "metadata": {
    "collapsed": true
   },
   "outputs": [],
   "source": [
    "genome_scores_r.next()\n",
    "GS = np.zeros((M, T))\n",
    "for row in genome_scores_r:\n",
    "    if int(row[0]) >= M+1:\n",
    "        break\n",
    "    GS[int(row[0])-1, int(row[1])-1] = float(row[2])\n",
    "    \n",
    "ratings_r.next()\n",
    "R = np.zeros((U, M))\n",
    "Entries = []\n",
    "for row in ratings_r:\n",
    "    if int(row[0]) == U+1:\n",
    "        break\n",
    "    if int(row[1]) >= M+1:\n",
    "        continue\n",
    "    R[int(row[0])-1, int(row[1])-1] = float(row[2])\n",
    "    Entries.append([int(row[0])-1, int(row[1])-1])"
   ]
  },
  {
   "cell_type": "code",
   "execution_count": null,
   "metadata": {
    "collapsed": false
   },
   "outputs": [],
   "source": [
    "movies_r.next()\n",
    "MG = np.zeros((M, len(Genres)))\n",
    "for row in movies_r:\n",
    "    if int(row[0]) >= M+1:\n",
    "        break\n",
    "    gs = row[-1].split('|')\n",
    "    for g in gs:\n",
    "        pos = Genres.index(g)\n",
    "        MG[int(row[0])-1, pos] = 1.0"
   ]
  },
  {
   "cell_type": "code",
   "execution_count": null,
   "metadata": {
    "collapsed": true
   },
   "outputs": [],
   "source": [
    "def prepare_train_test(R, Entries, test_ratio=0.2):\n",
    "    m = int(len(Entries)*test_ratio)\n",
    "    n1, n2 = R.shape\n",
    "    Omega = np.random.choice(len(Entries), m, replace=False)\n",
    "    mask = np.zeros(R.shape)\n",
    "    for ij in range(m):\n",
    "        [i, j] = Entries[Omega[ij]]\n",
    "        mask[i, j] = 1.0\n",
    "\n",
    "    R_train = R * mask\n",
    "    return R_train"
   ]
  },
  {
   "cell_type": "code",
   "execution_count": null,
   "metadata": {
    "collapsed": false
   },
   "outputs": [],
   "source": [
    "\"\"\"\n",
    "Strategy 1: \n",
    "X = I\n",
    "\"\"\"\n",
    "def do_test_imc(k=20, tr=0.2):\n",
    "    seed = 1\n",
    "    lamb = 1e-3\n",
    "    maxiter = 100\n",
    "    d1 = U\n",
    "    d2 = len(Genres)\n",
    "    print 'Generating data...'\n",
    "    R_train = prepare_train_test(R, Entries, test_ratio=0.2)\n",
    "    X = np.eye(d1)\n",
    "    Y = MG\n",
    "    W0 = np.random.randn(d1, k)\n",
    "    H0 = np.random.randn(d2, k)\n",
    "\n",
    "    # Run IMC\n",
    "    W, H, losses = IMC.IMC(R_train, X, Y, k, lamb, maxiter, W0, H0)\n",
    "\n",
    "    \n",
    "#     rms = sqrt(mean_squared_error(y_actual, y_predicted))\n",
    "    # relerr = norm(W.T.dot(H) - Z, 'fro')**2 / norm(Z, 'fro')**2 * 100\n",
    "    relerr = norm(X.dot(W.T).dot(H).dot(Y.T) - R, 'fro') ** 2 / norm(A, 'fro') ** 2 * 100\n",
    "    print 'IMC RelErr = %g' % (relerr)\n",
    "    # plt.plot(losses)\n",
    "    # plt.yscale('log')\n",
    "    # plt.show()\n",
    "\n",
    "    return relerr"
   ]
  },
  {
   "cell_type": "code",
   "execution_count": null,
   "metadata": {
    "collapsed": false
   },
   "outputs": [],
   "source": [
    "do_test_imc()"
   ]
  },
  {
   "cell_type": "code",
   "execution_count": null,
   "metadata": {
    "collapsed": true
   },
   "outputs": [],
   "source": []
  }
 ],
 "metadata": {
  "kernelspec": {
   "display_name": "Python 2",
   "language": "python",
   "name": "python2"
  },
  "language_info": {
   "codemirror_mode": {
    "name": "ipython",
    "version": 2
   },
   "file_extension": ".py",
   "mimetype": "text/x-python",
   "name": "python",
   "nbconvert_exporter": "python",
   "pygments_lexer": "ipython2",
   "version": "2.7.12"
  }
 },
 "nbformat": 4,
 "nbformat_minor": 0
}
