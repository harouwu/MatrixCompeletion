{
 "cells": [
  {
   "cell_type": "code",
   "execution_count": 1,
   "metadata": {
    "collapsed": false
   },
   "outputs": [],
   "source": [
    "%matplotlib inline"
   ]
  },
  {
   "cell_type": "code",
   "execution_count": 2,
   "metadata": {
    "collapsed": false
   },
   "outputs": [],
   "source": [
    "import csv\n",
    "import numpy as np\n",
    "import os\n",
    "import sys\n",
    "module_path = os.path.abspath(os.path.join('..'))\n",
    "if module_path not in sys.path:\n",
    "    sys.path.append(module_path)\n",
    "\n",
    "from python import IMC, dirtyIMC, Utils\n",
    "from sklearn.metrics import mean_squared_error\n",
    "from math import sqrt\n",
    "from numpy import linalg as la\n",
    "import matplotlib.pyplot as plt"
   ]
  },
  {
   "cell_type": "code",
   "execution_count": 3,
   "metadata": {
    "collapsed": false
   },
   "outputs": [],
   "source": [
    "data_dir = os.path.abspath(os.path.join('../', 'dataset/'))\n",
    "ml_dir = os.path.join(data_dir, 'movie_lens/ml-20m/')"
   ]
  },
  {
   "cell_type": "code",
   "execution_count": 4,
   "metadata": {
    "collapsed": false
   },
   "outputs": [],
   "source": [
    "M = 27278\n",
    "U = 138493\n",
    "T = 1128\n",
    "ratio = .01\n",
    "M = int(M*ratio)\n",
    "U = int(U*ratio)\n",
    "\n",
    "Genres = ['Action',\n",
    "'Adventure',\n",
    "'Animation',\n",
    "'Children',\n",
    "'Comedy',\n",
    "'Crime',\n",
    "'Documentary',\n",
    "'Drama',\n",
    "'Fantasy',\n",
    "'Film-Noir',\n",
    "'Horror',\n",
    "'Musical',\n",
    "'Mystery',\n",
    "'Romance',\n",
    "'Sci-Fi',\n",
    "'Thriller',\n",
    "'War',\n",
    "'Western',\n",
    "'IMAX']"
   ]
  },
  {
   "cell_type": "code",
   "execution_count": 5,
   "metadata": {
    "collapsed": false
   },
   "outputs": [],
   "source": [
    "genome_scores_f = open(ml_dir + 'genome-scores.csv', 'rb')\n",
    "ratings_f = open(ml_dir + 'ratings.csv', 'rb')\n",
    "movies_f = open(ml_dir + 'movies.csv', 'rb')\n",
    "tags_f = open(ml_dir + 'tags.csv', 'rb')\n",
    "\n",
    "genome_scores_r = csv.reader(genome_scores_f, delimiter=',', quotechar='|')\n",
    "ratings_r = csv.reader(ratings_f, delimiter=',', quotechar='|')\n",
    "movies_r = csv.reader(movies_f, delimiter=',', quotechar='|')\n",
    "tags_r = csv.reader(tags_f, delimiter=',', quotechar='|')"
   ]
  },
  {
   "cell_type": "code",
   "execution_count": 6,
   "metadata": {
    "collapsed": true
   },
   "outputs": [],
   "source": [
    "genome_scores_r.next()\n",
    "GS = np.zeros((M, T))\n",
    "for row in genome_scores_r:\n",
    "    if int(row[0]) >= M+1:\n",
    "        break\n",
    "    GS[int(row[0])-1, int(row[1])-1] = float(row[2])\n",
    "    \n",
    "ratings_r.next()\n",
    "R = np.zeros((U, M))\n",
    "Entries = []\n",
    "for row in ratings_r:\n",
    "    if int(row[0]) == U+1:\n",
    "        break\n",
    "    if int(row[1]) >= M+1:\n",
    "        continue\n",
    "    R[int(row[0])-1, int(row[1])-1] = float(row[2])\n",
    "    Entries.append([int(row[0])-1, int(row[1])-1])"
   ]
  },
  {
   "cell_type": "code",
   "execution_count": 7,
   "metadata": {
    "collapsed": false
   },
   "outputs": [],
   "source": [
    "movies_r.next()\n",
    "MG = np.zeros((M, len(Genres)))\n",
    "for row in movies_r:\n",
    "    if int(row[0]) >= M+1:\n",
    "        break\n",
    "    gs = row[-1].split('|')\n",
    "    for g in gs:\n",
    "        pos = Genres.index(g)\n",
    "        MG[int(row[0])-1, pos] = 1.0"
   ]
  },
  {
   "cell_type": "code",
   "execution_count": 8,
   "metadata": {
    "collapsed": true
   },
   "outputs": [],
   "source": [
    "def prepare_train_test(R, Entries, test_ratio=0.2):\n",
    "    m = int(len(Entries)*test_ratio)\n",
    "    n1, n2 = R.shape\n",
    "    Omega = np.random.choice(len(Entries), m, replace=False)\n",
    "    mask = np.zeros(R.shape)\n",
    "    for ij in range(m):\n",
    "        [i, j] = Entries[Omega[ij]]\n",
    "        mask[i, j] = 1.0\n",
    "\n",
    "    R_train = R * mask\n",
    "    return R_train\n",
    "\n",
    "def prepare_normal_train_test(R, Entries, test_ratio=0.2):\n",
    "    d = np.ones(R.shape) * 2.75 * np.float32(R!=0)\n",
    "    R_norm = R - d\n",
    "    m = int(len(Entries)*test_ratio)\n",
    "    n1, n2 = R.shape\n",
    "    Omega = np.random.choice(len(Entries), m, replace=False)\n",
    "    mask = np.zeros(R_norm.shape)\n",
    "    for ij in range(m):\n",
    "        [i, j] = Entries[Omega[ij]]\n",
    "        mask[i, j] = 1.0\n",
    "\n",
    "    R_train = R_norm * mask\n",
    "    return R_train, R_norm"
   ]
  },
  {
   "cell_type": "code",
   "execution_count": null,
   "metadata": {
    "collapsed": false
   },
   "outputs": [],
   "source": [
    "\"\"\"\n",
    "Strategy 1: \n",
    "X = I\n",
    "\"\"\"\n",
    "def do_test_imc(k=10, tr=0.2):\n",
    "    seed = 1\n",
    "    lamb = 1e-3\n",
    "    maxiter = 50\n",
    "    d1 = U\n",
    "    d2 = len(Genres)\n",
    "    print 'Generating data...'\n",
    "    R_train, R_norm = prepare_normal_train_test(R, Entries, test_ratio=0.2)\n",
    "    X = np.eye(d1)\n",
    "    Y = MG\n",
    "    X = np.concatenate((X, np.ones((d1,1))), axis=1)\n",
    "    Y = np.concatenate((Y, np.ones((M ,1))), axis=1)\n",
    "    W0 = np.random.randn(d1+1, k)\n",
    "    H0 = np.random.randn(d2+1, k)\n",
    "\n",
    "    # Run IMC\n",
    "    W, H, losses = IMC.IMC(R_train, X, Y, k, lamb, maxiter, W0, H0)\n",
    "\n",
    "    predict = X.dot(W.T).dot(H).dot(Y.T)\n",
    "    \n",
    "    rms = sqrt(mean_squared_error(R_norm[R_norm!=0], predict[R_norm!=0]))\n",
    "    print 'RMSE: %g' % (rms)\n",
    "    # relerr = norm(W.T.dot(H) - Z, 'fro')**2 / norm(Z, 'fro')**2 * 100\n",
    "    relerr = la.norm(predict*np.int32(R_norm!=0) - R_norm, 'fro') ** 2 / la.norm(R_norm, 'fro') ** 2 * 100\n",
    "    print 'IMC RelErr = %g' % (relerr)\n",
    "    plt.plot(losses)\n",
    "    plt.yscale('log')\n",
    "    plt.show()\n",
    "\n",
    "    return predict*np.int32(R!=0), R_train"
   ]
  },
  {
   "cell_type": "code",
   "execution_count": null,
   "metadata": {
    "collapsed": false
   },
   "outputs": [],
   "source": [
    "predict, R_train = do_test_imc()\n",
    "print predict[predict!=0]\n",
    "print R[R!=0]\n",
    "print R_train[R!=0]"
   ]
  },
  {
   "cell_type": "code",
   "execution_count": 9,
   "metadata": {
    "collapsed": false
   },
   "outputs": [
    {
     "name": "stdout",
     "output_type": "stream",
     "text": [
      "(1384, 19)\n"
     ]
    }
   ],
   "source": [
    "def generate_X():\n",
    "    X = np.zeros((U, len(Genres)))\n",
    "    c = np.zeros(len(Genres))\n",
    "    for i in xrange(U):\n",
    "        for j in xrange(M):\n",
    "            for k in xrange(len(Genres)):\n",
    "                if MG[j, k] > 0:\n",
    "                    X[i, k] = (X[i, k] * c[k] + R[i, j]) / (c[k] + 1)\n",
    "                    c[k] = c[k] + 1\n",
    "        c = np.zeros(len(Genres))\n",
    "    return X\n",
    "\n",
    "User_side = generate_X()\n",
    "print User_side.shape"
   ]
  },
  {
   "cell_type": "code",
   "execution_count": 10,
   "metadata": {
    "collapsed": false
   },
   "outputs": [],
   "source": [
    "\"\"\"\n",
    "Strategy 2: \n",
    "X = Ave Rating\n",
    "\"\"\"\n",
    "def do_test_imc(k=20, tr=0.2):\n",
    "    seed = 1\n",
    "    lamb = 1e1\n",
    "    maxiter = 50\n",
    "    d1 = U\n",
    "    d2 = len(Genres)\n",
    "    print 'Generating data...'\n",
    "    R_train, R_norm = prepare_normal_train_test(R, Entries, test_ratio=0.2)\n",
    "    X = User_side\n",
    "    d = np.ones(X.shape) * 2.75 * np.float32(X!=0)\n",
    "    X = X - d\n",
    "    Y = MG\n",
    "    X = np.concatenate((X, np.ones((d1,1))), axis=1)\n",
    "    Y = np.concatenate((Y, np.ones((M ,1))), axis=1)\n",
    "    W0 = np.random.randn(len(Genres)+1, k)\n",
    "    H0 = np.random.randn(d2+1, k)\n",
    "\n",
    "    # Run IMC\n",
    "    W, H, losses = IMC.IMC(R_train, X, Y, k, lamb, maxiter, W0, H0)\n",
    "\n",
    "    predict = X.dot(W.T).dot(H).dot(Y.T)\n",
    "    \n",
    "    rms = sqrt(mean_squared_error(R_norm[R_norm!=0], predict[R_norm!=0]))\n",
    "    print 'RMSE: %g' % (rms)\n",
    "    # relerr = norm(W.T.dot(H) - Z, 'fro')**2 / norm(Z, 'fro')**2 * 100\n",
    "    relerr = la.norm(predict * np.int32(R_norm!=0) - R_norm, 'fro') ** 2 / la.norm(R_norm, 'fro') ** 2 * 100\n",
    "    print 'IMC RelErr = %g' % (relerr)\n",
    "    plt.plot(losses)\n",
    "    plt.yscale('log')\n",
    "    plt.show()\n",
    "\n",
    "    return predict*np.int32(R!=0), R_train"
   ]
  },
  {
   "cell_type": "code",
   "execution_count": 11,
   "metadata": {
    "collapsed": false
   },
   "outputs": [
    {
     "name": "stdout",
     "output_type": "stream",
     "text": [
      "Generating data...\n",
      "Iter 0. Updating W.  Iter 1. Updating W.  RMSE: 2.55619\n",
      "IMC RelErr = 389.271\n"
     ]
    },
    {
     "data": {
      "image/png": "[encoded data removed]",
      "text/plain": [
       "<matplotlib.figure.Figure at 0x2ae8e4037290>"
      ]
     },
     "metadata": {},
     "output_type": "display_data"
    },
    {
     "name": "stdout",
     "output_type": "stream",
     "text": [
      "[ 1.27288762  3.22391387  2.50534862 ...,  3.66475859  2.69476676\n",
      "  6.01425698]\n",
      "[ 3.5  3.5  3.5 ...,  4.   4.   5. ]\n",
      "[ 0.    0.75  0.   ...,  0.    0.    0.  ]\n"
     ]
    }
   ],
   "source": [
    "predict, R_train = do_test_imc()\n",
    "print predict[predict!=0]\n",
    "print R[R!=0]\n",
    "print R_train[R!=0]"
   ]
  },
  {
   "cell_type": "code",
   "execution_count": 14,
   "metadata": {
    "collapsed": true
   },
   "outputs": [],
   "source": [
    "\"\"\"\n",
    "Strategy 2: \n",
    "X = Ave Rating\n",
    "\"\"\"\n",
    "def do_test_dirty_imc(k=20, tr=0.2):\n",
    "    k1 = k\n",
    "    k2 = k\n",
    "    seed = 1\n",
    "    lamb1 = 1e-3\n",
    "    lamb2 = 1e1\n",
    "    maxiter = 50\n",
    "    d1 = U\n",
    "    d2 = len(Genres)\n",
    "    print 'Generating data...'\n",
    "    R_train, R_norm = prepare_normal_train_test(R, Entries, test_ratio=0.2)\n",
    "    X = User_side\n",
    "    d = np.ones(X.shape) * 2.75 * np.float32(X!=0)\n",
    "    X = X - d\n",
    "    Y = MG\n",
    "    X = np.concatenate((X, np.ones((d1,1))), axis=1)\n",
    "    Y = np.concatenate((Y, np.ones((M ,1))), axis=1)\n",
    "    W0 = np.random.randn(len(Genres)+1, k1)\n",
    "    H0 = np.random.randn(d2+1, k1)\n",
    "    U0 = np.random.randn(U, k2)\n",
    "    V0 = np.random.randn(M, k2)\n",
    "\n",
    "    # Run dirtyIMC\n",
    "    W, H, U_m, V, losses = dirtyIMC.dirtyIMC(R_train, X, Y, k1, k2, lamb1, lamb2, maxiter, W0, H0, U0, V0)\n",
    "    predict = X.dot(W.T).dot(H).dot(Y.T) + U_m.T.dot(V)\n",
    "    \n",
    "    rms = sqrt(mean_squared_error(R_norm[R_norm!=0], predict[R_norm!=0]))\n",
    "    print 'RMSE: %g' % (rms)\n",
    "    # relerr = norm(W.T.dot(H) - Z, 'fro')**2 / norm(Z, 'fro')**2 * 100\n",
    "    relerr = la.norm(predict * np.int32(R_norm!=0) - R_norm, 'fro') ** 2 / la.norm(R_norm, 'fro') ** 2 * 100\n",
    "    print 'IMC RelErr = %g' % (relerr)\n",
    "    plt.plot(losses)\n",
    "    plt.yscale('log')\n",
    "    plt.show()\n",
    "\n",
    "    return predict*np.int32(R!=0), R_train"
   ]
  },
  {
   "cell_type": "code",
   "execution_count": 15,
   "metadata": {
    "collapsed": false
   },
   "outputs": [
    {
     "name": "stdout",
     "output_type": "stream",
     "text": [
      "Generating data...\n",
      "Iter 0. Updating W.  Iter 1. Updating W.  Iter 2. Updating W.  Iter 3. Updating W.  Iter 4. Updating W.  Iter 5. Updating W.  Iter 6. Updating W.  Iter 7. Updating W.  Iter 8. Updating W.  Iter 9. Updating W.  Iter 10. Updating W.  Iter 11. Updating W.  Iter 12. Updating W.  Iter 13. Updating W.  Iter 14. Updating W.  Iter 15. Updating W.  Iter 16. Updating W.  Iter 17. Updating W.  Iter 18. Updating W.  Iter 19. Updating W.  Iter 20. Updating W.  Iter 21. Updating W.  Iter 22. Updating W.  Iter 23. Updating W.  Iter 24. Updating W.  Iter 25. Updating W.  Iter 26. Updating W.  Iter 27. Updating W.  Iter 28. Updating W.  Iter 29. Updating W.  Iter 30. Updating W.  Iter 31. Updating W.  Iter 32. Updating W.  Iter 33. Updating W.  Iter 34. Updating W.  Iter 35. Updating W.  Iter 36. Updating W.  Iter 37. Updating W.  Iter 38. Updating W.  Iter 39. Updating W.  Iter 40. Updating W.  Iter 41. Updating W.  Iter 42. Updating W.  Iter 43. Updating W.  Iter 44. Updating W.  Iter 45. Updating W.  Iter 46. Updating W.  Iter 47. Updating W.  Iter 48. Updating W.  Iter 49. Updating W.  RMSE: 1.06231\n",
      "IMC RelErr = 67.2316\n"
     ]
    },
    {
     "data": {
      "image/png": "[encoded data removed]",
      "text/plain": [
       "<matplotlib.figure.Figure at 0x2ae92f8a7c90>"
      ]
     },
     "metadata": {},
     "output_type": "display_data"
    }
   ],
   "source": [
    "predict, R_train = do_test_dirty_imc()"
   ]
  },
  {
   "cell_type": "code",
   "execution_count": null,
   "metadata": {
    "collapsed": true
   },
   "outputs": [],
   "source": []
  }
 ],
 "metadata": {
  "kernelspec": {
   "display_name": "Python 2",
   "language": "python",
   "name": "python2"
  },
  "language_info": {
   "codemirror_mode": {
    "name": "ipython",
    "version": 2
   },
   "file_extension": ".py",
   "mimetype": "text/x-python",
   "name": "python",
   "nbconvert_exporter": "python",
   "pygments_lexer": "ipython2",
   "version": "2.7.12"
  }
 },
 "nbformat": 4,
 "nbformat_minor": 0
}
