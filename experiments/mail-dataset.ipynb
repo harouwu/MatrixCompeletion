{
 "cells": [
  {
   "cell_type": "code",
   "execution_count": null,
   "metadata": {
    "collapsed": true
   },
   "outputs": [],
   "source": [
    "#dataset: http://www.csie.ntu.edu.tw/~cjlin/libsvmtools/datasets/multilabel.html\n",
    "import numpy as np\n",
    "import sklearn as sk\n",
    "import scipy as sp\n",
    "from numpy.random import randn\n",
    "from numpy.linalg import norm, svd\n",
    "from IMC import IMC\n",
    "from dirtyIMC import dirtyIMC"
   ]
  },
  {
   "cell_type": "code",
   "execution_count": null,
   "metadata": {
    "collapsed": false
   },
   "outputs": [],
   "source": [
    "import matplotlib.pyplot as plt\n",
    "%matplotlib inline\n",
    "from sklearn.metrics import precision_recall_curve\n",
    "from sklearn.metrics import average_precision_score\n",
    "from sklearn.metrics import roc_curve, auc"
   ]
  },
  {
   "cell_type": "code",
   "execution_count": null,
   "metadata": {
    "collapsed": false
   },
   "outputs": [],
   "source": [
    "features_train = []\n",
    "labels_train = []\n",
    "with open('data/mail/train-exp1') as f:\n",
    "    for line in f:\n",
    "        c = line.split()\n",
    "        if ':' in c[0]:\n",
    "            continue\n",
    "        labe = np.array(c[0].split(',')).astype(np.int)\n",
    "        feat = [x.split(':')[1] for x in c[1:]]\n",
    "        features_train.append(feat)\n",
    "        ll = np.zeros((101,))\n",
    "        ll[labe] = 1\n",
    "        labels_train.append(ll)\n",
    "features_train = np.array(features_train).astype(np.float)\n",
    "labels_train = np.array(labels_train) * 2 - 1\n",
    "\n",
    "features_test = []\n",
    "labels_test = []\n",
    "with open('data/mail/test-exp1') as f:\n",
    "    for line in f:\n",
    "        c = line.split()\n",
    "        if ':' in c[0]:\n",
    "            continue\n",
    "        labe = np.array(c[0].split(',')).astype(np.int)\n",
    "        feat = [x.split(':')[1] for x in c[1:]]\n",
    "        features_test.append(feat)\n",
    "        ll = np.zeros((101,))\n",
    "        ll[labe] = 1\n",
    "        labels_test.append(ll)\n",
    "features_test = np.array(features_test).astype(np.float)\n",
    "labels_test = np.array(labels_test) * 2 - 1"
   ]
  },
  {
   "cell_type": "code",
   "execution_count": null,
   "metadata": {
    "collapsed": true
   },
   "outputs": [],
   "source": [
    "num_test = 3000\n",
    "cases = 8000\n",
    "noise_level = 0"
   ]
  },
  {
   "cell_type": "code",
   "execution_count": null,
   "metadata": {
    "collapsed": false
   },
   "outputs": [],
   "source": [
    "seed = 3\n",
    "np.random.seed(seed)\n",
    "\n",
    "perm = np.random.permutation(labels_train.shape[0] + labels_test.shape[0])[:cases]\n",
    "features = np.concatenate([features_test, features_train], axis = 0)[perm, :]\n",
    "features = np.concatenate([features, np.ones((cases, 1))], axis=1)\n",
    "labels = np.concatenate([labels_test, labels_train], axis = 0)[perm, :]\n",
    "labels_gt = labels.copy()\n",
    "labels[:num_test,:] = 0"
   ]
  },
  {
   "cell_type": "code",
   "execution_count": null,
   "metadata": {
    "collapsed": false
   },
   "outputs": [],
   "source": [
    "seed = 3\n",
    "np.random.seed(seed)\n",
    "\n",
    "lamb1 = 10\n",
    "lamb2 = 60\n",
    "maxiter = 25\n",
    "\n",
    "n1 = labels.shape[0]\n",
    "n2 = labels.shape[1]\n",
    "d1 = features.shape[1]\n",
    "d2 = labels.shape[1]\n",
    "k1 = 30\n",
    "k2 = 5\n",
    "\n",
    "# print 'Generating random data...'\n",
    "X = features\n",
    "Y = np.eye(d2)\n",
    "A = labels_gt\n",
    "R = labels\n",
    "\n",
    "t1 = int(round(noise_level * d1))\n",
    "if t1 > 0:\n",
    "    U, S, V = svd(X)\n",
    "    N = U[:, d1:]\n",
    "    I = np.random.choice(range(d1), t1, replace=False)\n",
    "    X[:, I] = N[:, :t1]\n",
    "\n",
    "W0 = randn(d1, k1)\n",
    "H0 = randn(d2, k1)\n",
    "U0 = randn(n1, k2)\n",
    "V0 = randn(n2, k2)\n",
    "\n",
    "# Run IMC\n",
    "W, H, U, V, losses = dirtyIMC(R, X, Y, k1, k2, lamb1, lamb2, maxiter, W0, H0, U0, V0)\n",
    "W_imc, H_imc, losses_imc = IMC(R, X, Y, k1, lamb1, maxiter * 2, W0, H0)\n",
    "\n",
    "Diff = X.dot(W.T).dot(H).dot(Y.T) + U.T.dot(V) - A;\n",
    "# Diff[R==0] = 0\n",
    "\n",
    "relerr = norm(Diff, 'fro')**2 / norm(A, 'fro')**2 * 100\n",
    "print 'dirtyIMC RelErr = %g'%(relerr)\n",
    "\n",
    "Diff = X.dot(W_imc.T).dot(H_imc).dot(Y.T) - A;\n",
    "# Diff[R==0] = 0\n",
    "\n",
    "relerr = norm(Diff, 'fro')**2 / norm(A, 'fro')**2 * 100\n",
    "print 'IMC RelErr = %g'%(relerr)\n",
    "\n",
    "# plt.plot(losses)\n",
    "# plt.yscale('log')\n",
    "# plt.show()"
   ]
  },
  {
   "cell_type": "code",
   "execution_count": null,
   "metadata": {
    "collapsed": false
   },
   "outputs": [],
   "source": [
    "IMC_pred = (X.dot(W_imc.T).dot(H_imc).dot(Y.T))[:num_test,:]\n",
    "DIMC_pred = (X.dot(W.T).dot(H).dot(Y.T) + U.T.dot(V))[:num_test,:]"
   ]
  },
  {
   "cell_type": "code",
   "execution_count": null,
   "metadata": {
    "collapsed": false
   },
   "outputs": [],
   "source": [
    "test_gt = labels_gt[:num_test,:]"
   ]
  },
  {
   "cell_type": "code",
   "execution_count": null,
   "metadata": {
    "collapsed": false
   },
   "outputs": [],
   "source": [
    "precision = dict()\n",
    "recall = dict()\n",
    "average_precision = dict()\n",
    "\n",
    "fpr = dict()\n",
    "tpr = dict()\n",
    "roc_auc = dict()\n",
    "\n",
    "for i in range(labels.shape[1]):\n",
    "    precision[i], recall[i], _ = precision_recall_curve(test_gt[:, i], IMC_pred[:, i])\n",
    "    average_precision[i] = average_precision_score(test_gt[:, i], IMC_pred[:, i])\n",
    "    fpr[i], tpr[i], _ = roc_curve(test_gt[:, i], IMC_pred[:, i])\n",
    "    roc_auc[i] = auc(fpr[i], tpr[i])\n",
    "\n",
    "# print average_precision\n",
    "roc_auc = np.array(roc_auc.values())\n",
    "print roc_auc, np.mean(roc_auc[~np.isnan(roc_auc)])"
   ]
  },
  {
   "cell_type": "code",
   "execution_count": null,
   "metadata": {
    "collapsed": false
   },
   "outputs": [],
   "source": [
    "precision = dict()\n",
    "recall = dict()\n",
    "average_precision = dict()\n",
    "\n",
    "fpr = dict()\n",
    "tpr = dict()\n",
    "roc_auc = dict()\n",
    "\n",
    "for i in range(labels.shape[1]):\n",
    "    precision[i], recall[i], _ = precision_recall_curve(test_gt[:, i], DIMC_pred[:, i])\n",
    "    average_precision[i] = average_precision_score(test_gt[:, i], DIMC_pred[:, i])\n",
    "    fpr[i], tpr[i], _ = roc_curve(test_gt[:, i], DIMC_pred[:, i])\n",
    "    roc_auc[i] = auc(fpr[i], tpr[i])\n",
    "\n",
    "# print average_precision\n",
    "roc_auc = np.array(roc_auc.values())\n",
    "print roc_auc, np.mean(roc_auc[~np.isnan(roc_auc)])"
   ]
  },
  {
   "cell_type": "code",
   "execution_count": null,
   "metadata": {
    "collapsed": false
   },
   "outputs": [],
   "source": [
    "thresh = -0.3\n",
    "IMC_acc = np.zeros(IMC_pred.shape)\n",
    "IMC_acc[IMC_pred >= thresh] = 1\n",
    "IMC_acc[IMC_pred < thresh] = -1\n",
    "IMC_acc = IMC_acc == test_gt\n",
    "print 'IMC:',np.mean(np.sum(IMC_acc, axis=0) * 1.0 / IMC_acc.shape[0])\n",
    "DIMC_acc = np.zeros(DIMC_pred.shape)\n",
    "DIMC_acc[DIMC_pred >= thresh] = 1\n",
    "DIMC_acc[DIMC_pred < thresh] = -1\n",
    "DIMC_acc = DIMC_acc == test_gt\n",
    "print 'IMC:',np.mean(np.sum(DIMC_acc, axis=0) * 1.0 / DIMC_acc.shape[0])"
   ]
  },
  {
   "cell_type": "code",
   "execution_count": null,
   "metadata": {
    "collapsed": false
   },
   "outputs": [],
   "source": [
    "IMC_acc = np.zeros(IMC_pred.shape)\n",
    "IMC_acc[IMC_pred >= thresh] = 1\n",
    "IMC_acc[IMC_pred < thresh] = -1\n",
    "np.sum(IMC_acc == -1)"
   ]
  },
  {
   "cell_type": "code",
   "execution_count": null,
   "metadata": {
    "collapsed": true
   },
   "outputs": [],
   "source": [
    "    "
   ]
  }
 ],
 "metadata": {
  "anaconda-cloud": {},
  "kernelspec": {
   "display_name": "Python [default]",
   "language": "python",
   "name": "python2"
  },
  "language_info": {
   "codemirror_mode": {
    "name": "ipython",
    "version": 2
   },
   "file_extension": ".py",
   "mimetype": "text/x-python",
   "name": "python",
   "nbconvert_exporter": "python",
   "pygments_lexer": "ipython2",
   "version": "2.7.12"
  }
 },
 "nbformat": 4,
 "nbformat_minor": 1
}
