{
 "cells": [
  {
   "cell_type": "code",
   "execution_count": 1,
   "metadata": {
    "collapsed": true
   },
   "outputs": [],
   "source": [
    "# dataset: http://www.csie.ntu.edu.tw/~cjlin/libsvmtools/datasets/multilabel.html\n",
    "import numpy as np\n",
    "import sklearn as sk\n",
    "import scipy as sp\n",
    "from numpy.random import randn\n",
    "from numpy.linalg import norm, svd\n",
    "from IMC import IMC\n",
    "from dirtyIMC import dirtyIMC"
   ]
  },
  {
   "cell_type": "code",
   "execution_count": 2,
   "metadata": {
    "collapsed": false
   },
   "outputs": [],
   "source": [
    "%matplotlib inline\n",
    "from sklearn.metrics import precision_recall_curve\n",
    "from sklearn.metrics import average_precision_score\n",
    "from sklearn.metrics import roc_curve, auc"
   ]
  },
  {
   "cell_type": "code",
   "execution_count": 3,
   "metadata": {
    "collapsed": false
   },
   "outputs": [],
   "source": [
    "features_train = []\n",
    "labels_train = []\n",
    "with open('data/scene/scene_train') as f:\n",
    "    for line in f:\n",
    "        c = line.split()\n",
    "        labe = np.array(c[0].split(',')).astype(np.int)\n",
    "        feat = [x.split(':')[1] for x in c[1:]]\n",
    "        features_train.append(feat)\n",
    "        ll = np.zeros((6,))\n",
    "        ll[labe] = 1\n",
    "        labels_train.append(ll)\n",
    "features_train = np.array(features_train).astype(np.float)\n",
    "labels_train = np.array(labels_train) * 2 - 1\n",
    "\n",
    "features_test = []\n",
    "labels_test = []\n",
    "with open('data/scene/scene_test') as f:\n",
    "    for line in f:\n",
    "        c = line.split()\n",
    "        labe = np.array(c[0].split(',')).astype(np.int)\n",
    "        feat = [x.split(':')[1] for x in c[1:]]\n",
    "        features_test.append(feat)\n",
    "        ll = np.zeros((6,))\n",
    "        ll[labe] = 1\n",
    "        labels_test.append(ll)\n",
    "features_test = np.array(features_test).astype(np.float)\n",
    "labels_test = np.array(labels_test) * 2 - 1"
   ]
  },
  {
   "cell_type": "code",
   "execution_count": 98,
   "metadata": {
    "collapsed": false
   },
   "outputs": [],
   "source": [
    "num_test = 1000\n",
    "noise_level = 0"
   ]
  },
  {
   "cell_type": "code",
   "execution_count": 128,
   "metadata": {
    "collapsed": false
   },
   "outputs": [],
   "source": [
    "# seed = 1\n",
    "# np.random.seed(seed)\n",
    "perm = np.random.permutation(labels_train.shape[0] + labels_test.shape[0])\n",
    "features = np.concatenate([features_test, features_train], axis = 0)[perm, :]\n",
    "features = np.concatenate([features, np.ones((features.shape[0], 1))], axis=1)\n",
    "labels = np.concatenate([labels_test, labels_train], axis = 0)[perm, :]\n",
    "labels_gt = labels.copy()\n",
    "labels[:num_test,:] = 0"
   ]
  },
  {
   "cell_type": "code",
   "execution_count": 129,
   "metadata": {
    "collapsed": false
   },
   "outputs": [
    {
     "name": "stdout",
     "output_type": "stream",
     "text": [
      "Iter 0. Updating W.  Iter 1. Updating W.  Iter 2. Updating W.  Iter 3. Updating W.  Iter 4. Updating W.  Iter 5. Updating W.  Iter 6. Updating W.  Iter 7. Updating W.  Iter 8. Updating W.  Iter 9. Updating W.  Iter 10. Updating W.  Iter 11. Updating W.  Iter 12. Updating W.  Iter 13. Updating W.  Iter 14. Updating W.  Iter 15. Updating W.  Iter 16. Updating W.  Iter 17. Updating W.  Iter 18. Updating W.  Iter 19. Updating W.  Iter 20. Updating W.  Iter 21. Updating W.  Iter 22. Updating W.  Iter 23. Updating W.  Iter 24. Updating W.  Iter 25. Updating W.  Iter 26. Updating W.  Iter 27. Updating W.  Iter 28. Updating W.  Iter 29. Updating W.  Iter 30. Updating W.  Iter 31. Updating W.  Iter 32. Updating W.  Iter 33. Updating W.  Iter 34. Updating W.  Iter 35. Updating W.  Iter 36. Updating W.  Iter 37. Updating W.  Iter 38. Updating W.  Iter 39. Updating W.  Iter 40. Updating W.  Iter 41. Updating W.  Iter 42. Updating W.  Iter 43. Updating W.  Iter 44. Updating W.  Iter 45. Updating W.  Iter 46. Updating W.  Iter 47. Updating W.  Iter 48. Updating W.  Iter 49. Updating W.  Iter 50. Updating W.  Iter 51. Updating W.  Iter 52. Updating W.  Iter 53. Updating W.  Iter 54. Updating W.  Iter 55. Updating W.  Iter 56. Updating W.  Iter 57. Updating W.  Iter 58. Updating W.  Iter 59. Updating W.  Iter 60. Updating W.  Iter 61. Updating W.  Iter 62. Updating W.  Iter 63. Updating W.  Iter 64. Updating W.  Iter 65. Updating W.  Iter 66. Updating W.  Iter 67. Updating W.  Iter 68. Updating W.  Iter 69. Updating W.  Iter 70. Updating W.  Iter 71. Updating W.  Iter 72. Updating W.  Iter 73. Updating W.  Iter 74. Updating W.  Iter 75. Updating W.  Iter 76. Updating W.  Iter 77. Updating W.  Iter 78. Updating W.  Iter 79. Updating W.  Iter 80. Updating W.  Iter 81. Updating W.  Iter 82. Updating W.  Iter 83. Updating W.  Iter 84. Updating W.  Iter 85. Updating W.  Iter 86. Updating W.  Iter 87. Updating W.  Iter 88. Updating W.  Iter 89. Updating W.  Iter 90. Updating W.  Iter 91. Updating W.  Iter 92. Updating W.  Iter 93. Updating W.  Iter 94. Updating W.  Iter 95. Updating W.  Iter 96. Updating W.  Iter 97. Updating W.  Iter 98. Updating W.  Iter 99. Updating W.  Iter 0. Updating W.  Iter 1. Updating W.  Iter 2. Updating W.  Iter 3. Updating W.  Iter 4. Updating W.  Iter 5. Updating W.  Iter 6. Updating W.  Iter 7. Updating W.  Iter 8. Updating W.  Iter 9. Updating W.  Iter 10. Updating W.  Iter 11. Updating W.  Iter 12. Updating W.  Iter 13. Updating W.  Iter 14. Updating W.  Iter 15. Updating W.  Iter 16. Updating W.  Iter 17. Updating W.  Iter 18. Updating W.  Iter 19. Updating W.  Iter 20. Updating W.  Iter 21. Updating W.  Iter 22. Updating W.  Iter 23. Updating W.  Iter 24. Updating W.  Iter 25. Updating W.  Iter 26. Updating W.  Iter 27. Updating W.  Iter 28. Updating W.  Iter 29. Updating W.  Iter 30. Updating W.  Iter 31. Updating W.  Iter 32. Updating W.  Iter 33. Updating W.  Iter 34. Updating W.  Iter 35. Updating W.  Iter 36. Updating W.  Iter 37. Updating W.  Iter 38. Updating W.  Iter 39. Updating W.  Iter 40. Updating W.  Iter 41. Updating W.  Iter 42. Updating W.  Iter 43. Updating W.  Iter 44. Updating W.  Iter 45. Updating W.  Iter 46. Updating W.  Iter 47. Updating W.  Iter 48. Updating W.  Iter 49. Updating W.  Iter 50. Updating W.  Iter 51. Updating W.  Iter 52. Updating W.  Iter 53. Updating W.  Iter 54. Updating W.  Iter 55. Updating W.  Iter 56. Updating W.  Iter 57. Updating W.  Iter 58. Updating W.  Iter 59. Updating W.  Iter 60. Updating W.  Iter 61. Updating W.  Iter 62. Updating W.  Iter 63. Updating W.  Iter 64. Updating W.  Iter 65. Updating W.  Iter 66. Updating W.  Iter 67. Updating W.  Iter 68. Updating W.  Iter 69. Updating W.  Iter 70. Updating W.  Iter 71. Updating W.  Iter 72. Updating W.  Iter 73. Updating W.  Iter 74. Updating W.  Iter 75. Updating W.  Iter 76. Updating W.  Iter 77. Updating W.  Iter 78. Updating W.  Iter 79. Updating W.  Iter 80. Updating W.  Iter 81. Updating W.  Iter 82. Updating W.  Iter 83. Updating W.  Iter 84. Updating W.  Iter 85. Updating W.  Iter 86. Updating W.  Iter 87. Updating W.  Iter 88. Updating W.  Iter 89. Updating W.  Iter 90. Updating W.  Iter 91. Updating W.  Iter 92. Updating W.  Iter 93. Updating W.  Iter 94. Updating W.  Iter 95. Updating W.  Iter 96. Updating W.  Iter 97. Updating W.  Iter 98. Updating W.  Iter 99. Updating W.  dirtyIMC RelErr = 16.1784\n",
      "IMC RelErr = 31.8041\n"
     ]
    }
   ],
   "source": [
    "lamb1 = 10\n",
    "lamb2 = 5\n",
    "maxiter = 100\n",
    "\n",
    "n1 = labels.shape[0]\n",
    "n2 = labels.shape[1]\n",
    "d1 = features.shape[1]\n",
    "d2 = labels.shape[1]\n",
    "k1 = 20\n",
    "k2 = 5\n",
    "\n",
    "# print 'Generating random data...'\n",
    "X = features\n",
    "Y = np.eye(d2)\n",
    "A = labels_gt\n",
    "R = labels\n",
    "\n",
    "t1 = int(round(noise_level * d1))\n",
    "if t1 > 0:\n",
    "    U, S, V = svd(X)\n",
    "    N = U[:, d1:]\n",
    "    I = np.random.choice(range(d1), t1, replace=False)\n",
    "    X[:, I] = N[:, :t1]\n",
    "\n",
    "W0 = randn(d1, k1)\n",
    "H0 = randn(d2, k1)\n",
    "U0 = randn(n1, k2)\n",
    "V0 = randn(n2, k2)\n",
    "\n",
    "# Run IMC\n",
    "W, H, U, V, losses = dirtyIMC(R, X, Y, k1, k2, lamb1, lamb2, maxiter, W0, H0, U0, V0)\n",
    "W_imc, H_imc, losses_imc = IMC(R, X, Y, k1, lamb1, maxiter, W0, H0)\n",
    "\n",
    "Diff = X.dot(W.T).dot(H).dot(Y.T) + U.T.dot(V) - A;\n",
    "# Diff[R==0] = 0\n",
    "\n",
    "relerr = norm(Diff, 'fro')**2 / norm(A, 'fro')**2 * 100\n",
    "print 'dirtyIMC RelErr = %g'%(relerr)\n",
    "\n",
    "Diff = X.dot(W_imc.T).dot(H_imc).dot(Y.T) - A;\n",
    "# Diff[R==0] = 0\n",
    "\n",
    "relerr = norm(Diff, 'fro')**2 / norm(A, 'fro')**2 * 100\n",
    "print 'IMC RelErr = %g'%(relerr)\n",
    "# plt.plot(losses)\n",
    "# plt.yscale('log')\n",
    "# plt.show()"
   ]
  },
  {
   "cell_type": "code",
   "execution_count": 130,
   "metadata": {
    "collapsed": false
   },
   "outputs": [],
   "source": [
    "IMC_pred = (X.dot(W_imc.T).dot(H_imc).dot(Y.T))[:num_test,:]\n",
    "DIMC_pred = (X.dot(W.T).dot(H).dot(Y.T) + U.T.dot(V))[:num_test,:]"
   ]
  },
  {
   "cell_type": "code",
   "execution_count": 131,
   "metadata": {
    "collapsed": false
   },
   "outputs": [],
   "source": [
    "test_gt = labels_gt[:num_test,:]"
   ]
  },
  {
   "cell_type": "code",
   "execution_count": 132,
   "metadata": {
    "collapsed": false
   },
   "outputs": [
    {
     "name": "stdout",
     "output_type": "stream",
     "text": [
      "[ 0.91171882  0.97960874  0.93514011  0.94865196  0.78272145  0.84477568] 0.900436126165\n"
     ]
    }
   ],
   "source": [
    "precision = dict()\n",
    "recall = dict()\n",
    "average_precision = dict()\n",
    "\n",
    "fpr = dict()\n",
    "tpr = dict()\n",
    "roc_auc = dict()\n",
    "\n",
    "for i in range(6):\n",
    "    precision[i], recall[i], _ = precision_recall_curve(test_gt[:, i], IMC_pred[:, i])\n",
    "    average_precision[i] = average_precision_score(test_gt[:, i], IMC_pred[:, i])\n",
    "    fpr[i], tpr[i], _ = roc_curve(test_gt[:, i], IMC_pred[:, i])\n",
    "    roc_auc[i] = auc(fpr[i], tpr[i])\n",
    "\n",
    "# print average_precision\n",
    "roc_auc = np.array(roc_auc.values())\n",
    "print roc_auc, np.mean(roc_auc[~np.isnan(roc_auc)])"
   ]
  },
  {
   "cell_type": "code",
   "execution_count": 133,
   "metadata": {
    "collapsed": false
   },
   "outputs": [
    {
     "name": "stdout",
     "output_type": "stream",
     "text": [
      "[ 0.92147728  0.98293643  0.93775006  0.95141104  0.81427739  0.87606564] 0.91398630654\n"
     ]
    }
   ],
   "source": [
    "precision = dict()\n",
    "recall = dict()\n",
    "average_precision = dict()\n",
    "\n",
    "fpr = dict()\n",
    "tpr = dict()\n",
    "roc_auc = dict()\n",
    "\n",
    "for i in range(6):\n",
    "    precision[i], recall[i], _ = precision_recall_curve(test_gt[:, i], DIMC_pred[:, i])\n",
    "    average_precision[i] = average_precision_score(test_gt[:, i], DIMC_pred[:, i])\n",
    "    fpr[i], tpr[i], _ = roc_curve(test_gt[:, i], DIMC_pred[:, i])\n",
    "    roc_auc[i] = auc(fpr[i], tpr[i])\n",
    "\n",
    "# print average_precision\n",
    "roc_auc = np.array(roc_auc.values())\n",
    "print roc_auc, np.mean(roc_auc[~np.isnan(roc_auc)])"
   ]
  },
  {
   "cell_type": "code",
   "execution_count": 66,
   "metadata": {
    "collapsed": false
   },
   "outputs": [
    {
     "ename": "SyntaxError",
     "evalue": "invalid syntax (<ipython-input-66-e5d25f412c15>, line 2)",
     "output_type": "error",
     "traceback": [
      "\u001b[0;36m  File \u001b[0;32m\"<ipython-input-66-e5d25f412c15>\"\u001b[0;36m, line \u001b[0;32m2\u001b[0m\n\u001b[0;31m    [ 0.88561743  0.96580297  0.9220508   0.95168248  0.77645543  0.83664634] 0.889709243145\u001b[0m\n\u001b[0m                           ^\u001b[0m\n\u001b[0;31mSyntaxError\u001b[0m\u001b[0;31m:\u001b[0m invalid syntax\n"
     ]
    }
   ],
   "source": [
    "# bias\n",
    "[ 0.88561743  0.96580297  0.9220508   0.95168248  0.77645543  0.83664634] 0.889709243145\n",
    "[ 0.68387599  0.82751553  0.86321151  0.89373357  0.69169784  0.81476965] 0.795800681359\n",
    "\n",
    "# 1e-2 1e-1\n",
    "[ 0.88249405  0.96648085  0.89345297  0.93446636  0.76356998  0.83781165] 0.8797126454\n",
    "[ 0.88370376  0.9154724   0.89687427  0.93141642  0.74596584  0.8470664 ] 0.870083182356\n"
   ]
  },
  {
   "cell_type": "code",
   "execution_count": 161,
   "metadata": {
    "collapsed": false
   },
   "outputs": [
    {
     "name": "stdout",
     "output_type": "stream",
     "text": [
      "IMC: 0.883833333333\n"
     ]
    }
   ],
   "source": [
    "thresh = -0.15\n",
    "IMC_acc = np.zeros(IMC_pred.shape)\n",
    "IMC_acc[IMC_pred >= thresh] = 1\n",
    "IMC_acc[IMC_pred < thresh] = -1\n",
    "IMC_acc = IMC_acc == test_gt\n",
    "print 'IMC:',np.sum(IMC_acc) * 1.0 / (IMC_acc.shape[0] * IMC_acc.shape[1])"
   ]
  },
  {
   "cell_type": "code",
   "execution_count": 162,
   "metadata": {
    "collapsed": false
   },
   "outputs": [
    {
     "name": "stdout",
     "output_type": "stream",
     "text": [
      "DIMC: 0.892\n"
     ]
    }
   ],
   "source": [
    "DIMC_acc = np.zeros(DIMC_pred.shape)\n",
    "DIMC_acc[DIMC_pred >= thresh] = 1\n",
    "DIMC_acc[DIMC_pred < thresh] = -1\n",
    "DIMC_acc = DIMC_acc == test_gt\n",
    "print 'DIMC:',np.sum(DIMC_acc) * 1.0 / (DIMC_acc.shape[0] * DIMC_acc.shape[1])"
   ]
  },
  {
   "cell_type": "code",
   "execution_count": 163,
   "metadata": {
    "collapsed": false
   },
   "outputs": [
    {
     "data": {
      "text/plain": [
       "(2407, 295)"
      ]
     },
     "execution_count": 163,
     "metadata": {},
     "output_type": "execute_result"
    }
   ],
   "source": [
    "features.shape"
   ]
  },
  {
   "cell_type": "code",
   "execution_count": null,
   "metadata": {
    "collapsed": true
   },
   "outputs": [],
   "source": []
  }
 ],
 "metadata": {
  "anaconda-cloud": {},
  "kernelspec": {
   "display_name": "Python [default]",
   "language": "python",
   "name": "python2"
  },
  "language_info": {
   "codemirror_mode": {
    "name": "ipython",
    "version": 2
   },
   "file_extension": ".py",
   "mimetype": "text/x-python",
   "name": "python",
   "nbconvert_exporter": "python",
   "pygments_lexer": "ipython2",
   "version": "2.7.12"
  }
 },
 "nbformat": 4,
 "nbformat_minor": 1
}
